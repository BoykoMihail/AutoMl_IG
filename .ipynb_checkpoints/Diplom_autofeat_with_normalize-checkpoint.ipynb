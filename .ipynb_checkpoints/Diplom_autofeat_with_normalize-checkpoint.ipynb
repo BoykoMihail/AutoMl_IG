{
 "cells": [
  {
   "cell_type": "code",
   "execution_count": 1,
   "metadata": {},
   "outputs": [],
   "source": [
    "import warnings\n",
    "import numpy as np\n",
    "import pandas as pd\n",
    "from sklearn.model_selection import train_test_split, GridSearchCV\n",
    "from sklearn.metrics import mean_squared_error, r2_score\n",
    "from sklearn.preprocessing import StandardScaler\n",
    "from sklearn.linear_model import Ridge, Lasso\n",
    "from sklearn import preprocessing\n",
    "from sklearn.linear_model import LinearRegression\n",
    "\n",
    "from autofeat_new import AutoFeatRegressor\n",
    "\n",
    "%matplotlib inline\n",
    "%load_ext autoreload\n",
    "%autoreload 2"
   ]
  },
  {
   "cell_type": "code",
   "execution_count": 2,
   "metadata": {},
   "outputs": [],
   "source": [
    "dataset = pd.read_csv('/Users/mikhailboyko/Projects/StudentsWork/Diplom_C/ML_2019_FaceBookComments_LinearRegression/Dataset/Dataset/Training/Features_Variant_1.csv')\n",
    "# datasetTest = pd.read_csv('/Users/mikhailboyko/Projects/StudentsWork/DIPLOM/Dataset/Training/Features_Variant_2.csv')  "
   ]
  },
  {
   "cell_type": "code",
   "execution_count": 3,
   "metadata": {},
   "outputs": [
    {
     "name": "stdout",
     "output_type": "stream",
     "text": [
      "[ 6  0  0 ...  0 19 55]\n"
     ]
    }
   ],
   "source": [
    "feateng_steps=1\n",
    "# X = preprocessing.scale(dataset.iloc[:,:-1].to_numpy())\n",
    "# X = dataset.iloc[:,:-1].to_numpy()\n",
    "y = dataset.iloc[:,-1].to_numpy()\n",
    "X = preprocessing.scale(dataset.iloc[:,:-1].to_numpy())\n",
    "X_train, X_test, y_train, y_test = train_test_split(X, y, test_size=0.2, random_state=12)\n",
    "print(y_test)"
   ]
  },
  {
   "cell_type": "code",
   "execution_count": 4,
   "metadata": {
    "scrolled": true
   },
   "outputs": [
    {
     "name": "stdout",
     "output_type": "stream",
     "text": [
      "[AutoFeat] The 1 step feature engineering process could generate up to 424 features.\n",
      "[AutoFeat] With 32758 data points this new feature matrix would use about 0.06 gb of space.\n",
      "[feateng] Step 1: transformation of original features\n",
      "[feateng] Generated 167 transformed features from 53 original features - done.\n",
      "[feateng] Generated altogether 167 new features in 1 steps\n",
      "[feateng] Removing correlated features, as well as additions at the highest level\n",
      "[feateng] Generated a total of 153 additional features\n",
      "[featsel] Scaling data...done.\n",
      "[featsel] Feature selection run 1/5\n",
      "[featsel] Feature selection run 2/5\n",
      "[featsel] Feature selection run 3/5\n",
      "[featsel] Feature selection run 4/5\n",
      "[featsel] Feature selection run 5/5\n",
      "[featsel] 10 features after 5 feature selection runs\n",
      "[featsel] 9 features after correlation filtering\n",
      "[featsel] 9 features after noise filtering\n",
      "9\n",
      "[AutoFeat] Computing 9 new features.\n",
      "[AutoFeat]     9/    9 new features ...done.\n",
      "[AutoFeat] Final dataframe with 9 feature columns (-44 new).\n",
      "[AutoFeat] Training final regression model.\n",
      "[AutoFeat] Trained model: largest coefficients:\n",
      "6.922566485242413\n",
      "17.119359 * x030\n",
      "2.513559 * x033\n",
      "1.716403 * Abs(x033)\n",
      "0.913085 * x036\n",
      "-0.018927 * x030**3\n",
      "[AutoFeat] Final score: 0.2944\n",
      "---------\n",
      "x030\n",
      "x033\n",
      "x030**3\n",
      "Abs(x033)\n",
      "x036\n",
      "1/x036\n",
      "1/x033\n",
      "x036**2\n",
      "x033**2\n",
      "---------\n",
      "[AutoFeat] Computing 9 new features.\n",
      "[AutoFeat]     9/    9 new features ...done.\n",
      "######## Ridge Regression without autofeat\n",
      "MSE on training data: 888.4203753388175\n",
      "MSE on test data: 761.9965000063231\n",
      "R^2 on training data: 0.30998609695613166\n",
      "R^2 on test data: 0.3368449192985109\n",
      "-----------------------------------------\n",
      "######## Ridge Regression with autofeat\n",
      "MSE on training data: 898.9922294907283\n",
      "MSE on test data: 779.0890125947835\n",
      "R^2 on training data: 0.3017752020371711\n",
      "R^2 on test data: 0.32196954052065874\n"
     ]
    }
   ],
   "source": [
    "# run autofeat\n",
    "afreg = AutoFeatRegressor(verbose=1, feateng_steps=feateng_steps)\n",
    "X_train_tr = afreg.fit_transform(X_train, y_train)\n",
    "X_test_tr = afreg.transform(X_test)\n",
    "print(\"######## Ridge Regression without autofeat\")\n",
    "# rreg = Lasso()\n",
    "rreg = Ridge()\n",
    "param_grid = {\"alpha\": [0.00001, 0.0001, 0.001, 0.01, 0.1, 1., 2.5, 5., 10., 25., 50., 100., 250., 500., 1000., 2500., 5000., 10000.]}\n",
    "gsmodel = GridSearchCV(rreg, param_grid, scoring='neg_mean_squared_error', cv=5)\n",
    "gsmodel.fit(X_train, y_train)\n",
    "print(\"MSE on training data:\", mean_squared_error(y_train, gsmodel.predict(X_train)))\n",
    "print(\"MSE on test data:\", mean_squared_error(y_test, gsmodel.predict(X_test)))\n",
    "print(\"R^2 on training data:\", r2_score(y_train, gsmodel.predict(X_train)))\n",
    "print(\"R^2 on test data:\", r2_score(y_test, gsmodel.predict(X_test)))\n",
    "print(\"-----------------------------------------\")\n",
    "print(\"######## Ridge Regression with autofeat\")\n",
    "rreg2 = Ridge()\n",
    "param_grid2 = {\"alpha\": [0.00001, 0.0001, 0.001, 0.01, 0.1, 1., 2.5, 5., 10., 25., 50., 100., 250., 500., 1000., 2500., 5000., 10000.]}\n",
    "gsmodel2 = GridSearchCV(rreg2, param_grid2, scoring='neg_mean_squared_error', cv=5)\n",
    "gsmodel2.fit(X_train_tr, y_train)\n",
    "print(\"MSE on training data:\", mean_squared_error(y_train, gsmodel2.predict(X_train_tr)))\n",
    "print(\"MSE on test data:\", mean_squared_error(y_test, gsmodel2.predict(X_test_tr)))\n",
    "print(\"R^2 on training data:\", r2_score(y_train, gsmodel2.predict(X_train_tr)))\n",
    "print(\"R^2 on test data:\", r2_score(y_test, gsmodel2.predict(X_test_tr)))"
   ]
  },
  {
   "cell_type": "code",
   "execution_count": null,
   "metadata": {},
   "outputs": [],
   "source": []
  },
  {
   "cell_type": "code",
   "execution_count": null,
   "metadata": {},
   "outputs": [],
   "source": []
  }
 ],
 "metadata": {
  "kernelspec": {
   "display_name": "Python 3",
   "language": "python",
   "name": "python3"
  },
  "language_info": {
   "codemirror_mode": {
    "name": "ipython",
    "version": 3
   },
   "file_extension": ".py",
   "mimetype": "text/x-python",
   "name": "python",
   "nbconvert_exporter": "python",
   "pygments_lexer": "ipython3",
   "version": "3.7.6"
  }
 },
 "nbformat": 4,
 "nbformat_minor": 4
}
