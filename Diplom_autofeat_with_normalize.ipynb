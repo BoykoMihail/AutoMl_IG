{
 "cells": [
  {
   "cell_type": "code",
   "execution_count": 1,
   "metadata": {},
   "outputs": [],
   "source": [
    "import warnings\n",
    "import numpy as np\n",
    "import pandas as pd\n",
    "from sklearn.model_selection import train_test_split, GridSearchCV\n",
    "from sklearn.metrics import mean_squared_error, r2_score\n",
    "from sklearn.preprocessing import StandardScaler\n",
    "from sklearn.linear_model import Ridge, Lasso\n",
    "from sklearn import preprocessing\n",
    "from sklearn.linear_model import LinearRegression\n",
    "\n",
    "from autofeat_new import AutoFeatRegressor\n",
    "\n",
    "%matplotlib inline\n",
    "%load_ext autoreload\n",
    "%autoreload 2"
   ]
  },
  {
   "cell_type": "code",
   "execution_count": 2,
   "metadata": {},
   "outputs": [],
   "source": [
    "dataset = pd.read_csv('/Users/mikhailboyko/Projects/StudentsWork/Diplom_C/ML_2019_FaceBookComments_LinearRegression/Dataset/Dataset/Training/Features_Variant_1.csv')\n",
    "# datasetTest = pd.read_csv('/Users/mikhailboyko/Projects/StudentsWork/DIPLOM/Dataset/Training/Features_Variant_2.csv')  "
   ]
  },
  {
   "cell_type": "code",
   "execution_count": 3,
   "metadata": {},
   "outputs": [
    {
     "name": "stdout",
     "output_type": "stream",
     "text": [
      "[ 6  0  0 ...  0 19 55]\n"
     ]
    }
   ],
   "source": [
    "feateng_steps=3\n",
    "# X = preprocessing.scale(dataset.iloc[:,:-1].to_numpy())\n",
    "# X = dataset.iloc[:,:-1].to_numpy()\n",
    "y = dataset.iloc[:,-1].to_numpy()\n",
    "X = preprocessing.scale(dataset.iloc[:,:-1].to_numpy())\n",
    "X_train, X_test, y_train, y_test = train_test_split(X, y, test_size=0.2, random_state=12)\n",
    "print(y_test)"
   ]
  },
  {
   "cell_type": "code",
   "execution_count": null,
   "metadata": {
    "scrolled": true
   },
   "outputs": [
    {
     "name": "stdout",
     "output_type": "stream",
     "text": [
      "[AutoFeat] The 3 step feature engineering process could generate up to 2601028 features.\n",
      "[AutoFeat] With 32758 data points this new feature matrix would use about 340.82 gb of space.\n",
      "[feateng] Step 1: transformation of original features\n",
      "[feateng] Generated 167 transformed features from 53 original features - done.\n",
      "[feateng] Step 2: first combination of features\n",
      "[feateng]               0/          24090 feature tuples combined\r"
     ]
    },
    {
     "name": "stderr",
     "output_type": "stream",
     "text": [
      "/Users/mikhailboyko/Library/Python/3.7/lib/python/site-packages/numpy/lib/function_base.py:2534: RuntimeWarning: invalid value encountered in true_divide\n",
      "  c /= stddev[:, None]\n",
      "/Users/mikhailboyko/Library/Python/3.7/lib/python/site-packages/numpy/lib/function_base.py:2535: RuntimeWarning: invalid value encountered in true_divide\n",
      "  c /= stddev[None, :]\n"
     ]
    },
    {
     "name": "stdout",
     "output_type": "stream",
     "text": [
      "[feateng] Generated 95355 feature combinations from 24090 original feature tuples - done.\n",
      "[feateng] Step 3: transformation of new features\n",
      "[feateng]           68700/          95355 features transformed\r"
     ]
    },
    {
     "name": "stderr",
     "output_type": "stream",
     "text": [
      "/Users/mikhailboyko/Library/Python/3.7/lib/python/site-packages/numpy/core/_methods.py:195: RuntimeWarning: overflow encountered in multiply\n",
      "  x = um.multiply(x, x, out=x)\n",
      "/Users/mikhailboyko/Library/Python/3.7/lib/python/site-packages/numpy/core/_methods.py:199: RuntimeWarning: overflow encountered in reduce\n",
      "  ret = umr_sum(x, axis, dtype, out, keepdims)\n"
     ]
    },
    {
     "name": "stdout",
     "output_type": "stream",
     "text": [
      "[feateng] Generated 334071 transformed features from 95355 original features - done.\n"
     ]
    }
   ],
   "source": [
    "# run autofeat\n",
    "afreg = AutoFeatRegressor(verbose=1, feateng_steps=feateng_steps)\n",
    "X_train_tr = afreg.fit_transform(X_train, y_train)\n",
    "X_test_tr = afreg.transform(X_test)\n",
    "print(\"######## Ridge Regression without autofeat\")\n",
    "# rreg = Lasso()\n",
    "rreg = Ridge()\n",
    "param_grid = {\"alpha\": [0.00001, 0.0001, 0.001, 0.01, 0.1, 1., 2.5, 5., 10., 25., 50., 100., 250., 500., 1000., 2500., 5000., 10000.]}\n",
    "gsmodel = GridSearchCV(rreg, param_grid, scoring='neg_mean_squared_error', cv=5)\n",
    "gsmodel.fit(X_train, y_train)\n",
    "print(\"MSE on training data:\", mean_squared_error(y_train, gsmodel.predict(X_train)))\n",
    "print(\"MSE on test data:\", mean_squared_error(y_test, gsmodel.predict(X_test)))\n",
    "print(\"R^2 on training data:\", r2_score(y_train, gsmodel.predict(X_train)))\n",
    "print(\"R^2 on test data:\", r2_score(y_test, gsmodel.predict(X_test)))\n",
    "print(\"-----------------------------------------\")\n",
    "print(\"######## Ridge Regression with autofeat\")\n",
    "rreg2 = Ridge()\n",
    "param_grid2 = {\"alpha\": [0.00001, 0.0001, 0.001, 0.01, 0.1, 1., 2.5, 5., 10., 25., 50., 100., 250., 500., 1000., 2500., 5000., 10000.]}\n",
    "gsmodel2 = GridSearchCV(rreg2, param_grid2, scoring='neg_mean_squared_error', cv=5)\n",
    "gsmodel2.fit(X_train_tr, y_train)\n",
    "print(\"MSE on training data:\", mean_squared_error(y_train, gsmodel2.predict(X_train_tr)))\n",
    "print(\"MSE on test data:\", mean_squared_error(y_test, gsmodel2.predict(X_test_tr)))\n",
    "print(\"R^2 on training data:\", r2_score(y_train, gsmodel2.predict(X_train_tr)))\n",
    "print(\"R^2 on test data:\", r2_score(y_test, gsmodel2.predict(X_test_tr)))"
   ]
  },
  {
   "cell_type": "code",
   "execution_count": null,
   "metadata": {},
   "outputs": [],
   "source": []
  },
  {
   "cell_type": "code",
   "execution_count": null,
   "metadata": {},
   "outputs": [],
   "source": []
  }
 ],
 "metadata": {
  "kernelspec": {
   "display_name": "Python 3",
   "language": "python",
   "name": "python3"
  },
  "language_info": {
   "codemirror_mode": {
    "name": "ipython",
    "version": 3
   },
   "file_extension": ".py",
   "mimetype": "text/x-python",
   "name": "python",
   "nbconvert_exporter": "python",
   "pygments_lexer": "ipython3",
   "version": "3.7.6"
  }
 },
 "nbformat": 4,
 "nbformat_minor": 4
}
